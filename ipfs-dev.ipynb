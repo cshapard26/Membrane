{
 "cells": [
  {
   "cell_type": "code",
   "execution_count": 24,
   "metadata": {},
   "outputs": [
    {
     "data": {
      "text/plain": [
       "<ipfshttpclient.client.base.ResponseBase: {'Name': 'testmsg2.txt', 'Hash': 'QmaSCvA3wPTAr83MfUEDE7ytGaBj9iDUTBiQ3m8oD7mNcy', 'Size': '21'}>"
      ]
     },
     "execution_count": 24,
     "metadata": {},
     "output_type": "execute_result"
    }
   ],
   "source": [
    "import ipfshttpclient\n",
    "\n",
    "def upload_to_ipfs(file_data):\n",
    "    client = ipfshttpclient.connect('/ip4/127.0.0.1/tcp/5001')\n",
    "    result = client.add(file_data)\n",
    "    return result\n",
    "\n",
    "filename = 'testmsg.txt'\n",
    "upload_to_ipfs(filename)"
   ]
  },
  {
   "cell_type": "code",
   "execution_count": 5,
   "metadata": {},
   "outputs": [
    {
     "name": "stdout",
     "output_type": "stream",
     "text": [
      "zsh:1: command not found: ipfs\n"
     ]
    }
   ],
   "source": [
    "!ipfs cat /ipfs/QmaSCvA3wPTAr83MfUEDE7ytGaBj9iDUTBiQ3m8oD7mNcy > testmsg_ipfs.txt"
   ]
  },
  {
   "cell_type": "markdown",
   "metadata": {},
   "source": []
  }
 ],
 "metadata": {
  "kernelspec": {
   "display_name": ".drone_sim",
   "language": "python",
   "name": "python3"
  },
  "language_info": {
   "codemirror_mode": {
    "name": "ipython",
    "version": 3
   },
   "file_extension": ".py",
   "mimetype": "text/x-python",
   "name": "python",
   "nbconvert_exporter": "python",
   "pygments_lexer": "ipython3",
   "version": "3.9.6"
  }
 },
 "nbformat": 4,
 "nbformat_minor": 2
}
