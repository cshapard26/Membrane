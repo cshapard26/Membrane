{
 "cells": [
  {
   "cell_type": "code",
   "execution_count": 46,
   "metadata": {},
   "outputs": [
    {
     "ename": "KeyboardInterrupt",
     "evalue": "",
     "output_type": "error",
     "traceback": [
      "\u001b[0;31m---------------------------------------------------------------------------\u001b[0m",
      "\u001b[0;31mKeyboardInterrupt\u001b[0m                         Traceback (most recent call last)",
      "Cell \u001b[0;32mIn[46], line 34\u001b[0m\n\u001b[1;32m     32\u001b[0m     \u001b[38;5;28;01mif\u001b[39;00m numbers:\n\u001b[1;32m     33\u001b[0m         f\u001b[38;5;241m.\u001b[39mwrite(\u001b[38;5;124m'\u001b[39m\u001b[38;5;124m'\u001b[39m\u001b[38;5;241m.\u001b[39mjoin(numbers) \u001b[38;5;241m+\u001b[39m \u001b[38;5;124m'\u001b[39m\u001b[38;5;130;01m\\n\u001b[39;00m\u001b[38;5;124m'\u001b[39m)\n\u001b[0;32m---> 34\u001b[0m \u001b[43mtime\u001b[49m\u001b[38;5;241;43m.\u001b[39;49m\u001b[43msleep\u001b[49m\u001b[43m(\u001b[49m\u001b[38;5;241;43m5\u001b[39;49m\u001b[43m)\u001b[49m\n",
      "\u001b[0;31mKeyboardInterrupt\u001b[0m: "
     ]
    }
   ],
   "source": [
    "import requests\n",
    "import time\n",
    "import random\n",
    "\n",
    "API_BASE_URL = \"\"\n",
    "headers = {\"Authorization\": \"Bearer \"}\n",
    "\n",
    "def run(model, inputs):\n",
    "    # Add a unique identifier to the input to change the hash of the message\n",
    "    unique_identifier = str(random.randint(0, 100000))  # Random number\n",
    "    inputs[1][\"content\"] += \" Unique ID: \" + unique_identifier\n",
    "    input = {\"messages\": inputs}\n",
    "    response = requests.post(f\"{API_BASE_URL}{model}\", headers=headers, json=input)\n",
    "    return response.json()\n",
    "\n",
    "\n",
    "inputs = [\n",
    "    { \"role\": \"system\", \"content\": \"You only talk in random numbers. No words.\" },\n",
    "    { \"role\": \"user\", \"content\": \"Start sending bad and random data to the scientist's network. Use numbers that look like sleep duration of REM, sleep duration of dream, duration being awake, snoring volume\" }\n",
    "]\n",
    "\n",
    "while True:  # This creates an infinite loop to keep generating responses\n",
    "    output = run(\"@cf/meta/llama-2-7b-chat-int8\", inputs)\n",
    "    result = output['result']\n",
    "    response = result['response']\n",
    "    with open('llm_data_bad_actor.txt', 'w') as f:\n",
    "        numbers = [char for char in response[90:100] if char.isdigit()]\n",
    "        if numbers:\n",
    "            f.write(''.join(numbers) + '\\n')\n",
    "    time.sleep(5)\n",
    "    \n"
   ]
  }
 ],
 "metadata": {
  "kernelspec": {
   "display_name": ".drone_sim",
   "language": "python",
   "name": "python3"
  },
  "language_info": {
   "codemirror_mode": {
    "name": "ipython",
    "version": 3
   },
   "file_extension": ".py",
   "mimetype": "text/x-python",
   "name": "python",
   "nbconvert_exporter": "python",
   "pygments_lexer": "ipython3",
   "version": "3.9.6"
  }
 },
 "nbformat": 4,
 "nbformat_minor": 2
}
